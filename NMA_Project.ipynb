{
 "cells": [
  {
   "cell_type": "code",
   "execution_count": 1,
   "id": "initial_id",
   "metadata": {
    "ExecuteTime": {
     "end_time": "2024-07-26T00:57:21.135440600Z",
     "start_time": "2024-07-26T00:57:15.309661200Z"
    }
   },
   "outputs": [],
   "source": [
    "#!git clone https://github.com/ArthurSSS9966/SoftHebb.git\n",
    "#%cd SoftHebb\n",
    "\n",
    "import os.path\n",
    "import matplotlib.pyplot as plt\n",
    "import numpy as np\n",
    "%load_ext autoreload\n",
    "%autoreload 2\n",
    "\n",
    "import torch\n",
    "import torch.nn as nn\n",
    "import torch.optim as optim\n",
    "\n",
    "# Test to load the SoftHebb package\n",
    "from dataset import make_data_loaders\n",
    "from model import load_layers, HebbianOptimizer, AggregateOptim\n",
    "from engine import train_sup, evaluate_sup\n",
    "from train import check_dimension, training_config\n",
    "from utils import load_presets, load_config_dataset, CustomStepLR\n",
    "from log import Log"
   ]
  },
  {
   "cell_type": "code",
   "execution_count": 19,
   "id": "5b073e7f70e70a03",
   "metadata": {
    "collapsed": false,
    "ExecuteTime": {
     "end_time": "2024-07-26T01:08:37.811586300Z",
     "start_time": "2024-07-26T01:08:37.571319900Z"
    }
   },
   "outputs": [
    {
     "name": "stdout",
     "output_type": "stream",
     "text": [
      "range = 2.165063509461097\n",
      "range = 1.7320508075688772\n"
     ]
    }
   ],
   "source": [
    "device = torch.device(\"cuda\" if torch.cuda.is_available() else \"cpu\")\n",
    "\n",
    "params = {\"preset\":\"2SoftMlpMNIST\", \"dataset_sup\":\"MNIST\", \"dataset_unsup\":\"MNIST\",\n",
    "          \"seed\":52,\"model-name\":\"2SoftMlpMNIST\", \"training_mode\":\"simultaneous\", \"training_blocks\":None,\n",
    "          \"resume\":False, \"save\":False}\n",
    "\n",
    "save_location = \"D:\\\\BlcRepo\\OtherCode\\\\NeuroAI\\\\SoftHebb\\\\Models\"\n",
    "\n",
    "\n",
    "dataset_sup_config = load_config_dataset(\"MNIST\", 0.8)\n",
    "dataset_unsup_config = load_config_dataset(\"MNIST\", 0.8)\n",
    "dataset_sup_config['validation'] = True\n",
    "\n",
    "blocks = load_presets(params[\"preset\"])\n",
    "blocks = check_dimension(blocks, dataset_sup_config)\n",
    "\n",
    "train_config = training_config(blocks, dataset_sup_config, dataset_unsup_config, \"simultaneous\",\n",
    "                               None)\n",
    "\n",
    "config = train_config['t1']\n",
    "train_loader, val_loader, test_loader = make_data_loaders(dataset_sup_config, config['batch_size'], device)"
   ]
  },
  {
   "cell_type": "code",
   "outputs": [],
   "source": [
    "def train_model(\n",
    "        final_epoch: int,\n",
    "        print_freq: int,\n",
    "        lr: float,\n",
    "        folder_name: str,\n",
    "        model,\n",
    "        device,\n",
    "        log,\n",
    "        blocks,\n",
    "        learning_mode: str = 'BP'\n",
    "):\n",
    "    \"\"\"\n",
    "    Hybrid training of one model, happens during simultaneous training mode\n",
    "    \"\"\"\n",
    "    print('\\n', '********** Hybrid learning of blocks %s **********' % blocks)\n",
    "    optimizer_sgd = optim.Adam(\n",
    "        model.parameters(), lr=lr)\n",
    "    criterion = nn.CrossEntropyLoss()\n",
    "    hebbian_optimizer = HebbianOptimizer(model)\n",
    "    scheduler = CustomStepLR(optimizer_sgd, final_epoch)\n",
    "    optimizer = AggregateOptim((hebbian_optimizer, optimizer_sgd))\n",
    "    log_batch = log.new_log_batch()\n",
    "    \n",
    "    train_performance = {'loss': [], 'accuracy': []}\n",
    "    val_performance = {'loss': [], 'accuracy': []}\n",
    "        \n",
    "    for epoch in range(1, final_epoch + 1):\n",
    "        measures, lr = train_sup(model, criterion, optimizer, train_loader, device, log_batch, learning_mode, blocks)\n",
    "\n",
    "        if scheduler is not None:\n",
    "            scheduler.step()\n",
    "\n",
    "        if epoch % print_freq == 0 or epoch == final_epoch or epoch == 1:\n",
    "            \n",
    "            loss_test, acc_test = evaluate_sup(model, criterion, val_loader, device)\n",
    "            \n",
    "            log_batch = log.step(epoch, log_batch, loss_test, acc_test, lr, save=True)\n",
    "            log.verbose()\n",
    "            \n",
    "            _, train_loss, train_acc, loss_test, acc_test = log.data[-1]\n",
    "            \n",
    "            train_performance['loss'].append(train_loss)\n",
    "            train_performance['accuracy'].append(train_acc)\n",
    "            val_performance['loss'].append(loss_test)\n",
    "            val_performance['accuracy'].append(acc_test)\n",
    "        \n",
    "    return train_performance, val_performance"
   ],
   "metadata": {
    "collapsed": false,
    "ExecuteTime": {
     "end_time": "2024-07-26T00:58:55.654515Z",
     "start_time": "2024-07-26T00:58:55.551685900Z"
    }
   },
   "id": "b5446d49e83eca6a",
   "execution_count": 7
  },
  {
   "cell_type": "code",
   "outputs": [],
   "source": [
    "def plotTrainValLoss(train_performance, val_performance, name_model, total_epoch=15):\n",
    "\n",
    "    epochs = np.arange(1, total_epoch+1, total_epoch/len(train_performance['loss']))\n",
    "    \n",
    "    trainloss = train_performance['loss']\n",
    "    valloss = val_performance['loss']\n",
    "    train_accu = train_performance['accuracy']\n",
    "    val_accu = val_performance['accuracy']\n",
    "    \n",
    "    # Plot the loss and accuracy on the same plot with twin y-axis\n",
    "    fig, ax1 = plt.subplots()\n",
    "    ax1.set_xlabel('Epochs')\n",
    "    ax1.set_ylabel('Loss', color='tab:red')\n",
    "    ax1.plot(epochs, trainloss, color='tab:red', label='Train Loss')\n",
    "    ax1.plot(epochs, valloss, color='tab:blue', label='Val Loss')\n",
    "    ax1.tick_params(axis='y', labelcolor='tab:red')\n",
    "    ax1.legend(loc='upper left')\n",
    "    ax1.set_ylim([0, 0.05])\n",
    "    \n",
    "    ax2 = ax1.twinx()\n",
    "    ax2.set_ylabel('Accuracy', color='tab:green')\n",
    "    ax2.plot(epochs, train_accu, color='tab:green', label='Train Accuracy')\n",
    "    ax2.plot(epochs, val_accu, color='tab:orange', label='Val Accuracy')\n",
    "    ax2.tick_params(axis='y', labelcolor='tab:green')\n",
    "    ax2.legend(loc='upper right')\n",
    "    ax2.set_ylim([60, 100])\n",
    "    \n",
    "    fig.tight_layout()\n",
    "    plt.savefig(os.path.join(save_location, name_model, f\"{name_model}_training_plot.png\"))\n",
    "    plt.show()\n"
   ],
   "metadata": {
    "collapsed": false,
    "ExecuteTime": {
     "end_time": "2024-07-26T00:58:56.476653500Z",
     "start_time": "2024-07-26T00:58:56.275102700Z"
    }
   },
   "id": "c021d2776322ca62",
   "execution_count": 8
  },
  {
   "cell_type": "code",
   "execution_count": 20,
   "id": "e22696a77c4bbfa5",
   "metadata": {
    "collapsed": false,
    "ExecuteTime": {
     "end_time": "2024-07-26T01:08:40.665514300Z",
     "start_time": "2024-07-26T01:08:40.541173300Z"
    }
   },
   "outputs": [
    {
     "name": "stdout",
     "output_type": "stream",
     "text": [
      "\n",
      " Model 2SoftMlpMNIST not found\n",
      "\n",
      "\n",
      "\n",
      " ----- Architecture Block FlattenH7841002, number 0 -----\n",
      "- Flatten(start_dim=1, end_dim=-1)\n",
      "- HebbSoftLinear(in_features=784, out_features=100, lebesgue_p=2,  bias=False, t_invert=12.0, bias=False, lr_bias=0.0833)\n",
      "- SoftMax(t_invert=5.0, dim=1)\n",
      "\n",
      " ----- Architecture Block Linear(in_, number 1 -----\n",
      "- Linear(in_features=100, out_features=10, bias=True)\n"
     ]
    }
   ],
   "source": [
    "name_model = \"2SoftMlpMNIST\"\n",
    "SoftHebb_model = load_layers(blocks, name_model, False)"
   ]
  },
  {
   "cell_type": "code",
   "outputs": [
    {
     "name": "stdout",
     "output_type": "stream",
     "text": [
      "\n",
      " ********** Hybrid learning of blocks [0, 1] **********\n"
     ]
    },
    {
     "ename": "RuntimeError",
     "evalue": "mat1 and mat2 shapes cannot be multiplied (1792x28 and 1x100)",
     "output_type": "error",
     "traceback": [
      "\u001B[1;31m---------------------------------------------------------------------------\u001B[0m",
      "\u001B[1;31mRuntimeError\u001B[0m                              Traceback (most recent call last)",
      "Cell \u001B[1;32mIn[17], line 5\u001B[0m\n\u001B[0;32m      2\u001B[0m config \u001B[38;5;241m=\u001B[39m train_config[\u001B[38;5;124m'\u001B[39m\u001B[38;5;124mt1\u001B[39m\u001B[38;5;124m'\u001B[39m]\n\u001B[0;32m      3\u001B[0m total_epoch \u001B[38;5;241m=\u001B[39m \u001B[38;5;241m30\u001B[39m\n\u001B[1;32m----> 5\u001B[0m SoftHebb_loss, SoftHebb_valloss \u001B[38;5;241m=\u001B[39m \u001B[43mtrain_model\u001B[49m\u001B[43m(\u001B[49m\u001B[43m  \u001B[49m\u001B[43mtotal_epoch\u001B[49m\u001B[43m,\u001B[49m\n\u001B[0;32m      6\u001B[0m \u001B[43m                                                \u001B[49m\u001B[38;5;241;43m1\u001B[39;49m\u001B[43m,\u001B[49m\n\u001B[0;32m      7\u001B[0m \u001B[43m                                                \u001B[49m\u001B[43mconfig\u001B[49m\u001B[43m[\u001B[49m\u001B[38;5;124;43m'\u001B[39;49m\u001B[38;5;124;43mlr\u001B[39;49m\u001B[38;5;124;43m'\u001B[39;49m\u001B[43m]\u001B[49m\u001B[43m,\u001B[49m\n\u001B[0;32m      8\u001B[0m \u001B[43m                                                \u001B[49m\u001B[43mname_model\u001B[49m\u001B[43m,\u001B[49m\n\u001B[0;32m      9\u001B[0m \u001B[43m                                                \u001B[49m\u001B[43mSoftHebb_model\u001B[49m\u001B[43m,\u001B[49m\n\u001B[0;32m     10\u001B[0m \u001B[43m                                                \u001B[49m\u001B[43mdevice\u001B[49m\u001B[43m,\u001B[49m\n\u001B[0;32m     11\u001B[0m \u001B[43m                                                \u001B[49m\u001B[43mlog\u001B[49m\u001B[38;5;241;43m.\u001B[39;49m\u001B[43msup\u001B[49m\u001B[43m[\u001B[49m\u001B[38;5;124;43m'\u001B[39;49m\u001B[38;5;124;43mt1\u001B[39;49m\u001B[38;5;124;43m'\u001B[39;49m\u001B[43m]\u001B[49m\u001B[43m,\u001B[49m\n\u001B[0;32m     12\u001B[0m \u001B[43m                                                \u001B[49m\u001B[43mblocks\u001B[49m\u001B[38;5;241;43m=\u001B[39;49m\u001B[43mconfig\u001B[49m\u001B[43m[\u001B[49m\u001B[38;5;124;43m'\u001B[39;49m\u001B[38;5;124;43mblocks\u001B[39;49m\u001B[38;5;124;43m'\u001B[39;49m\u001B[43m]\u001B[49m\n\u001B[0;32m     13\u001B[0m \u001B[43m                                            \u001B[49m\u001B[43m)\u001B[49m\n\u001B[0;32m     14\u001B[0m \u001B[38;5;66;03m# Save the model\u001B[39;00m\n\u001B[0;32m     15\u001B[0m torch\u001B[38;5;241m.\u001B[39msave({\u001B[38;5;124m'\u001B[39m\u001B[38;5;124mstate_dict\u001B[39m\u001B[38;5;124m'\u001B[39m: SoftHebb_model\u001B[38;5;241m.\u001B[39mstate_dict(),\n\u001B[0;32m     16\u001B[0m         \u001B[38;5;124m'\u001B[39m\u001B[38;5;124mconfig\u001B[39m\u001B[38;5;124m'\u001B[39m: SoftHebb_model\u001B[38;5;241m.\u001B[39mconfig}, os\u001B[38;5;241m.\u001B[39mpath\u001B[38;5;241m.\u001B[39mjoin(\u001B[38;5;124m\"\u001B[39m\u001B[38;5;124mD:\u001B[39m\u001B[38;5;130;01m\\\\\u001B[39;00m\u001B[38;5;124mBlcRepo\u001B[39m\u001B[38;5;124m\\\u001B[39m\u001B[38;5;124mOtherCode\u001B[39m\u001B[38;5;130;01m\\\\\u001B[39;00m\u001B[38;5;124mNeuroAI\u001B[39m\u001B[38;5;130;01m\\\\\u001B[39;00m\u001B[38;5;124mSoftHebb\u001B[39m\u001B[38;5;130;01m\\\\\u001B[39;00m\u001B[38;5;124mModels\u001B[39m\u001B[38;5;124m\"\u001B[39m, name_model, \u001B[38;5;124mf\u001B[39m\u001B[38;5;124m\"\u001B[39m\u001B[38;5;132;01m{\u001B[39;00mname_model\u001B[38;5;132;01m}\u001B[39;00m\u001B[38;5;124m.pth\u001B[39m\u001B[38;5;124m\"\u001B[39m))\n",
      "Cell \u001B[1;32mIn[7], line 28\u001B[0m, in \u001B[0;36mtrain_model\u001B[1;34m(final_epoch, print_freq, lr, folder_name, model, device, log, blocks, learning_mode)\u001B[0m\n\u001B[0;32m     25\u001B[0m val_performance \u001B[38;5;241m=\u001B[39m {\u001B[38;5;124m'\u001B[39m\u001B[38;5;124mloss\u001B[39m\u001B[38;5;124m'\u001B[39m: [], \u001B[38;5;124m'\u001B[39m\u001B[38;5;124maccuracy\u001B[39m\u001B[38;5;124m'\u001B[39m: []}\n\u001B[0;32m     27\u001B[0m \u001B[38;5;28;01mfor\u001B[39;00m epoch \u001B[38;5;129;01min\u001B[39;00m \u001B[38;5;28mrange\u001B[39m(\u001B[38;5;241m1\u001B[39m, final_epoch \u001B[38;5;241m+\u001B[39m \u001B[38;5;241m1\u001B[39m):\n\u001B[1;32m---> 28\u001B[0m     measures, lr \u001B[38;5;241m=\u001B[39m \u001B[43mtrain_sup\u001B[49m\u001B[43m(\u001B[49m\u001B[43mmodel\u001B[49m\u001B[43m,\u001B[49m\u001B[43m \u001B[49m\u001B[43mcriterion\u001B[49m\u001B[43m,\u001B[49m\u001B[43m \u001B[49m\u001B[43moptimizer\u001B[49m\u001B[43m,\u001B[49m\u001B[43m \u001B[49m\u001B[43mtrain_loader\u001B[49m\u001B[43m,\u001B[49m\u001B[43m \u001B[49m\u001B[43mdevice\u001B[49m\u001B[43m,\u001B[49m\u001B[43m \u001B[49m\u001B[43mlog_batch\u001B[49m\u001B[43m,\u001B[49m\u001B[43m \u001B[49m\u001B[43mlearning_mode\u001B[49m\u001B[43m,\u001B[49m\u001B[43m \u001B[49m\u001B[43mblocks\u001B[49m\u001B[43m)\u001B[49m\n\u001B[0;32m     30\u001B[0m     \u001B[38;5;28;01mif\u001B[39;00m scheduler \u001B[38;5;129;01mis\u001B[39;00m \u001B[38;5;129;01mnot\u001B[39;00m \u001B[38;5;28;01mNone\u001B[39;00m:\n\u001B[0;32m     31\u001B[0m         scheduler\u001B[38;5;241m.\u001B[39mstep()\n",
      "File \u001B[1;32mD:\\BlcRepo\\OtherCode\\NeuroAI\\SoftHebb\\engine.py:142\u001B[0m, in \u001B[0;36mtrain_sup\u001B[1;34m(model, criterion, optimizer, loader, device, measures, learning_mode, blocks)\u001B[0m\n\u001B[0;32m    140\u001B[0m         measures, lr, info, convergence, R1 \u001B[38;5;241m=\u001B[39m train_sup_hebb(model, loader, device, measures, criterion)\n\u001B[0;32m    141\u001B[0m     \u001B[38;5;28;01melse\u001B[39;00m:\n\u001B[1;32m--> 142\u001B[0m         measures, lr \u001B[38;5;241m=\u001B[39m \u001B[43mtrain_BP\u001B[49m\u001B[43m(\u001B[49m\u001B[43mmodel\u001B[49m\u001B[43m,\u001B[49m\u001B[43m \u001B[49m\u001B[43mcriterion\u001B[49m\u001B[43m,\u001B[49m\u001B[43m \u001B[49m\u001B[43moptimizer\u001B[49m\u001B[43m,\u001B[49m\u001B[43m \u001B[49m\u001B[43mloader\u001B[49m\u001B[43m,\u001B[49m\u001B[43m \u001B[49m\u001B[43mdevice\u001B[49m\u001B[43m,\u001B[49m\u001B[43m \u001B[49m\u001B[43mmeasures\u001B[49m\u001B[43m)\u001B[49m\n\u001B[0;32m    143\u001B[0m \u001B[38;5;28;01mreturn\u001B[39;00m measures, lr\n",
      "File \u001B[1;32mD:\\BlcRepo\\OtherCode\\NeuroAI\\SoftHebb\\engine.py:17\u001B[0m, in \u001B[0;36mtrain_BP\u001B[1;34m(model, criterion, optimizer, loader, device, measures)\u001B[0m\n\u001B[0;32m     14\u001B[0m inputs \u001B[38;5;241m=\u001B[39m inputs\u001B[38;5;241m.\u001B[39mfloat()\u001B[38;5;241m.\u001B[39mto(device, non_blocking\u001B[38;5;241m=\u001B[39m\u001B[38;5;28;01mTrue\u001B[39;00m)\n\u001B[0;32m     15\u001B[0m target \u001B[38;5;241m=\u001B[39m target\u001B[38;5;241m.\u001B[39mto(device, non_blocking\u001B[38;5;241m=\u001B[39m\u001B[38;5;28;01mTrue\u001B[39;00m)\n\u001B[1;32m---> 17\u001B[0m output \u001B[38;5;241m=\u001B[39m \u001B[43mmodel\u001B[49m\u001B[43m(\u001B[49m\u001B[43minputs\u001B[49m\u001B[43m)\u001B[49m\n\u001B[0;32m     18\u001B[0m \u001B[38;5;66;03m# print(r\"%s\" % (time.time() - t))\u001B[39;00m\n\u001B[0;32m     19\u001B[0m \n\u001B[0;32m     20\u001B[0m \u001B[38;5;66;03m## 2. loss calculation\u001B[39;00m\n\u001B[0;32m     21\u001B[0m loss \u001B[38;5;241m=\u001B[39m criterion(output, target)\n",
      "File \u001B[1;32m~\\anaconda3\\envs\\neuroAI\\lib\\site-packages\\torch\\nn\\modules\\module.py:1532\u001B[0m, in \u001B[0;36mModule._wrapped_call_impl\u001B[1;34m(self, *args, **kwargs)\u001B[0m\n\u001B[0;32m   1530\u001B[0m     \u001B[38;5;28;01mreturn\u001B[39;00m \u001B[38;5;28mself\u001B[39m\u001B[38;5;241m.\u001B[39m_compiled_call_impl(\u001B[38;5;241m*\u001B[39margs, \u001B[38;5;241m*\u001B[39m\u001B[38;5;241m*\u001B[39mkwargs)  \u001B[38;5;66;03m# type: ignore[misc]\u001B[39;00m\n\u001B[0;32m   1531\u001B[0m \u001B[38;5;28;01melse\u001B[39;00m:\n\u001B[1;32m-> 1532\u001B[0m     \u001B[38;5;28;01mreturn\u001B[39;00m \u001B[38;5;28mself\u001B[39m\u001B[38;5;241m.\u001B[39m_call_impl(\u001B[38;5;241m*\u001B[39margs, \u001B[38;5;241m*\u001B[39m\u001B[38;5;241m*\u001B[39mkwargs)\n",
      "File \u001B[1;32m~\\anaconda3\\envs\\neuroAI\\lib\\site-packages\\torch\\nn\\modules\\module.py:1541\u001B[0m, in \u001B[0;36mModule._call_impl\u001B[1;34m(self, *args, **kwargs)\u001B[0m\n\u001B[0;32m   1536\u001B[0m \u001B[38;5;66;03m# If we don't have any hooks, we want to skip the rest of the logic in\u001B[39;00m\n\u001B[0;32m   1537\u001B[0m \u001B[38;5;66;03m# this function, and just call forward.\u001B[39;00m\n\u001B[0;32m   1538\u001B[0m \u001B[38;5;28;01mif\u001B[39;00m \u001B[38;5;129;01mnot\u001B[39;00m (\u001B[38;5;28mself\u001B[39m\u001B[38;5;241m.\u001B[39m_backward_hooks \u001B[38;5;129;01mor\u001B[39;00m \u001B[38;5;28mself\u001B[39m\u001B[38;5;241m.\u001B[39m_backward_pre_hooks \u001B[38;5;129;01mor\u001B[39;00m \u001B[38;5;28mself\u001B[39m\u001B[38;5;241m.\u001B[39m_forward_hooks \u001B[38;5;129;01mor\u001B[39;00m \u001B[38;5;28mself\u001B[39m\u001B[38;5;241m.\u001B[39m_forward_pre_hooks\n\u001B[0;32m   1539\u001B[0m         \u001B[38;5;129;01mor\u001B[39;00m _global_backward_pre_hooks \u001B[38;5;129;01mor\u001B[39;00m _global_backward_hooks\n\u001B[0;32m   1540\u001B[0m         \u001B[38;5;129;01mor\u001B[39;00m _global_forward_hooks \u001B[38;5;129;01mor\u001B[39;00m _global_forward_pre_hooks):\n\u001B[1;32m-> 1541\u001B[0m     \u001B[38;5;28;01mreturn\u001B[39;00m forward_call(\u001B[38;5;241m*\u001B[39margs, \u001B[38;5;241m*\u001B[39m\u001B[38;5;241m*\u001B[39mkwargs)\n\u001B[0;32m   1543\u001B[0m \u001B[38;5;28;01mtry\u001B[39;00m:\n\u001B[0;32m   1544\u001B[0m     result \u001B[38;5;241m=\u001B[39m \u001B[38;5;28;01mNone\u001B[39;00m\n",
      "File \u001B[1;32mD:\\BlcRepo\\OtherCode\\NeuroAI\\SoftHebb\\model.py:127\u001B[0m, in \u001B[0;36mMultiLayer.forward\u001B[1;34m(self, x)\u001B[0m\n\u001B[0;32m    126\u001B[0m \u001B[38;5;28;01mdef\u001B[39;00m \u001B[38;5;21mforward\u001B[39m(\u001B[38;5;28mself\u001B[39m, x: torch\u001B[38;5;241m.\u001B[39mTensor) \u001B[38;5;241m-\u001B[39m\u001B[38;5;241m>\u001B[39m torch\u001B[38;5;241m.\u001B[39mTensor:\n\u001B[1;32m--> 127\u001B[0m     x \u001B[38;5;241m=\u001B[39m \u001B[38;5;28;43mself\u001B[39;49m\u001B[38;5;241;43m.\u001B[39;49m\u001B[43mblocks\u001B[49m\u001B[43m(\u001B[49m\u001B[43mx\u001B[49m\u001B[43m)\u001B[49m\n\u001B[0;32m    128\u001B[0m     \u001B[38;5;28;01mreturn\u001B[39;00m x\n",
      "File \u001B[1;32m~\\anaconda3\\envs\\neuroAI\\lib\\site-packages\\torch\\nn\\modules\\module.py:1532\u001B[0m, in \u001B[0;36mModule._wrapped_call_impl\u001B[1;34m(self, *args, **kwargs)\u001B[0m\n\u001B[0;32m   1530\u001B[0m     \u001B[38;5;28;01mreturn\u001B[39;00m \u001B[38;5;28mself\u001B[39m\u001B[38;5;241m.\u001B[39m_compiled_call_impl(\u001B[38;5;241m*\u001B[39margs, \u001B[38;5;241m*\u001B[39m\u001B[38;5;241m*\u001B[39mkwargs)  \u001B[38;5;66;03m# type: ignore[misc]\u001B[39;00m\n\u001B[0;32m   1531\u001B[0m \u001B[38;5;28;01melse\u001B[39;00m:\n\u001B[1;32m-> 1532\u001B[0m     \u001B[38;5;28;01mreturn\u001B[39;00m \u001B[38;5;28mself\u001B[39m\u001B[38;5;241m.\u001B[39m_call_impl(\u001B[38;5;241m*\u001B[39margs, \u001B[38;5;241m*\u001B[39m\u001B[38;5;241m*\u001B[39mkwargs)\n",
      "File \u001B[1;32m~\\anaconda3\\envs\\neuroAI\\lib\\site-packages\\torch\\nn\\modules\\module.py:1541\u001B[0m, in \u001B[0;36mModule._call_impl\u001B[1;34m(self, *args, **kwargs)\u001B[0m\n\u001B[0;32m   1536\u001B[0m \u001B[38;5;66;03m# If we don't have any hooks, we want to skip the rest of the logic in\u001B[39;00m\n\u001B[0;32m   1537\u001B[0m \u001B[38;5;66;03m# this function, and just call forward.\u001B[39;00m\n\u001B[0;32m   1538\u001B[0m \u001B[38;5;28;01mif\u001B[39;00m \u001B[38;5;129;01mnot\u001B[39;00m (\u001B[38;5;28mself\u001B[39m\u001B[38;5;241m.\u001B[39m_backward_hooks \u001B[38;5;129;01mor\u001B[39;00m \u001B[38;5;28mself\u001B[39m\u001B[38;5;241m.\u001B[39m_backward_pre_hooks \u001B[38;5;129;01mor\u001B[39;00m \u001B[38;5;28mself\u001B[39m\u001B[38;5;241m.\u001B[39m_forward_hooks \u001B[38;5;129;01mor\u001B[39;00m \u001B[38;5;28mself\u001B[39m\u001B[38;5;241m.\u001B[39m_forward_pre_hooks\n\u001B[0;32m   1539\u001B[0m         \u001B[38;5;129;01mor\u001B[39;00m _global_backward_pre_hooks \u001B[38;5;129;01mor\u001B[39;00m _global_backward_hooks\n\u001B[0;32m   1540\u001B[0m         \u001B[38;5;129;01mor\u001B[39;00m _global_forward_hooks \u001B[38;5;129;01mor\u001B[39;00m _global_forward_pre_hooks):\n\u001B[1;32m-> 1541\u001B[0m     \u001B[38;5;28;01mreturn\u001B[39;00m forward_call(\u001B[38;5;241m*\u001B[39margs, \u001B[38;5;241m*\u001B[39m\u001B[38;5;241m*\u001B[39mkwargs)\n\u001B[0;32m   1543\u001B[0m \u001B[38;5;28;01mtry\u001B[39;00m:\n\u001B[0;32m   1544\u001B[0m     result \u001B[38;5;241m=\u001B[39m \u001B[38;5;28;01mNone\u001B[39;00m\n",
      "File \u001B[1;32m~\\anaconda3\\envs\\neuroAI\\lib\\site-packages\\torch\\nn\\modules\\container.py:217\u001B[0m, in \u001B[0;36mSequential.forward\u001B[1;34m(self, input)\u001B[0m\n\u001B[0;32m    215\u001B[0m \u001B[38;5;28;01mdef\u001B[39;00m \u001B[38;5;21mforward\u001B[39m(\u001B[38;5;28mself\u001B[39m, \u001B[38;5;28minput\u001B[39m):\n\u001B[0;32m    216\u001B[0m     \u001B[38;5;28;01mfor\u001B[39;00m module \u001B[38;5;129;01min\u001B[39;00m \u001B[38;5;28mself\u001B[39m:\n\u001B[1;32m--> 217\u001B[0m         \u001B[38;5;28minput\u001B[39m \u001B[38;5;241m=\u001B[39m \u001B[43mmodule\u001B[49m\u001B[43m(\u001B[49m\u001B[38;5;28;43minput\u001B[39;49m\u001B[43m)\u001B[49m\n\u001B[0;32m    218\u001B[0m     \u001B[38;5;28;01mreturn\u001B[39;00m \u001B[38;5;28minput\u001B[39m\n",
      "File \u001B[1;32m~\\anaconda3\\envs\\neuroAI\\lib\\site-packages\\torch\\nn\\modules\\module.py:1532\u001B[0m, in \u001B[0;36mModule._wrapped_call_impl\u001B[1;34m(self, *args, **kwargs)\u001B[0m\n\u001B[0;32m   1530\u001B[0m     \u001B[38;5;28;01mreturn\u001B[39;00m \u001B[38;5;28mself\u001B[39m\u001B[38;5;241m.\u001B[39m_compiled_call_impl(\u001B[38;5;241m*\u001B[39margs, \u001B[38;5;241m*\u001B[39m\u001B[38;5;241m*\u001B[39mkwargs)  \u001B[38;5;66;03m# type: ignore[misc]\u001B[39;00m\n\u001B[0;32m   1531\u001B[0m \u001B[38;5;28;01melse\u001B[39;00m:\n\u001B[1;32m-> 1532\u001B[0m     \u001B[38;5;28;01mreturn\u001B[39;00m \u001B[38;5;28mself\u001B[39m\u001B[38;5;241m.\u001B[39m_call_impl(\u001B[38;5;241m*\u001B[39margs, \u001B[38;5;241m*\u001B[39m\u001B[38;5;241m*\u001B[39mkwargs)\n",
      "File \u001B[1;32m~\\anaconda3\\envs\\neuroAI\\lib\\site-packages\\torch\\nn\\modules\\module.py:1541\u001B[0m, in \u001B[0;36mModule._call_impl\u001B[1;34m(self, *args, **kwargs)\u001B[0m\n\u001B[0;32m   1536\u001B[0m \u001B[38;5;66;03m# If we don't have any hooks, we want to skip the rest of the logic in\u001B[39;00m\n\u001B[0;32m   1537\u001B[0m \u001B[38;5;66;03m# this function, and just call forward.\u001B[39;00m\n\u001B[0;32m   1538\u001B[0m \u001B[38;5;28;01mif\u001B[39;00m \u001B[38;5;129;01mnot\u001B[39;00m (\u001B[38;5;28mself\u001B[39m\u001B[38;5;241m.\u001B[39m_backward_hooks \u001B[38;5;129;01mor\u001B[39;00m \u001B[38;5;28mself\u001B[39m\u001B[38;5;241m.\u001B[39m_backward_pre_hooks \u001B[38;5;129;01mor\u001B[39;00m \u001B[38;5;28mself\u001B[39m\u001B[38;5;241m.\u001B[39m_forward_hooks \u001B[38;5;129;01mor\u001B[39;00m \u001B[38;5;28mself\u001B[39m\u001B[38;5;241m.\u001B[39m_forward_pre_hooks\n\u001B[0;32m   1539\u001B[0m         \u001B[38;5;129;01mor\u001B[39;00m _global_backward_pre_hooks \u001B[38;5;129;01mor\u001B[39;00m _global_backward_hooks\n\u001B[0;32m   1540\u001B[0m         \u001B[38;5;129;01mor\u001B[39;00m _global_forward_hooks \u001B[38;5;129;01mor\u001B[39;00m _global_forward_pre_hooks):\n\u001B[1;32m-> 1541\u001B[0m     \u001B[38;5;28;01mreturn\u001B[39;00m forward_call(\u001B[38;5;241m*\u001B[39margs, \u001B[38;5;241m*\u001B[39m\u001B[38;5;241m*\u001B[39mkwargs)\n\u001B[0;32m   1543\u001B[0m \u001B[38;5;28;01mtry\u001B[39;00m:\n\u001B[0;32m   1544\u001B[0m     result \u001B[38;5;241m=\u001B[39m \u001B[38;5;28;01mNone\u001B[39;00m\n",
      "File \u001B[1;32mD:\\BlcRepo\\OtherCode\\NeuroAI\\SoftHebb\\layer.py:183\u001B[0m, in \u001B[0;36mBasicBlock.forward\u001B[1;34m(self, x)\u001B[0m\n\u001B[0;32m    180\u001B[0m     x \u001B[38;5;241m=\u001B[39m \u001B[38;5;28mself\u001B[39m\u001B[38;5;241m.\u001B[39mdropout(x)\n\u001B[0;32m    182\u001B[0m \u001B[38;5;66;03m# x = self.layer(x.detach()) if self.is_hebbian()  else self.layer(x)\u001B[39;00m\n\u001B[1;32m--> 183\u001B[0m x \u001B[38;5;241m=\u001B[39m \u001B[38;5;28;43mself\u001B[39;49m\u001B[38;5;241;43m.\u001B[39;49m\u001B[43mlayer\u001B[49m\u001B[43m(\u001B[49m\u001B[43mx\u001B[49m\u001B[43m)\u001B[49m\n\u001B[0;32m    185\u001B[0m \u001B[38;5;28;01mif\u001B[39;00m \u001B[38;5;28mself\u001B[39m\u001B[38;5;241m.\u001B[39mactivation \u001B[38;5;129;01mis\u001B[39;00m \u001B[38;5;129;01mnot\u001B[39;00m \u001B[38;5;28;01mNone\u001B[39;00m:\n\u001B[0;32m    186\u001B[0m     x \u001B[38;5;241m=\u001B[39m \u001B[38;5;28mself\u001B[39m\u001B[38;5;241m.\u001B[39mactivation(x)\n",
      "File \u001B[1;32m~\\anaconda3\\envs\\neuroAI\\lib\\site-packages\\torch\\nn\\modules\\module.py:1532\u001B[0m, in \u001B[0;36mModule._wrapped_call_impl\u001B[1;34m(self, *args, **kwargs)\u001B[0m\n\u001B[0;32m   1530\u001B[0m     \u001B[38;5;28;01mreturn\u001B[39;00m \u001B[38;5;28mself\u001B[39m\u001B[38;5;241m.\u001B[39m_compiled_call_impl(\u001B[38;5;241m*\u001B[39margs, \u001B[38;5;241m*\u001B[39m\u001B[38;5;241m*\u001B[39mkwargs)  \u001B[38;5;66;03m# type: ignore[misc]\u001B[39;00m\n\u001B[0;32m   1531\u001B[0m \u001B[38;5;28;01melse\u001B[39;00m:\n\u001B[1;32m-> 1532\u001B[0m     \u001B[38;5;28;01mreturn\u001B[39;00m \u001B[38;5;28mself\u001B[39m\u001B[38;5;241m.\u001B[39m_call_impl(\u001B[38;5;241m*\u001B[39margs, \u001B[38;5;241m*\u001B[39m\u001B[38;5;241m*\u001B[39mkwargs)\n",
      "File \u001B[1;32m~\\anaconda3\\envs\\neuroAI\\lib\\site-packages\\torch\\nn\\modules\\module.py:1541\u001B[0m, in \u001B[0;36mModule._call_impl\u001B[1;34m(self, *args, **kwargs)\u001B[0m\n\u001B[0;32m   1536\u001B[0m \u001B[38;5;66;03m# If we don't have any hooks, we want to skip the rest of the logic in\u001B[39;00m\n\u001B[0;32m   1537\u001B[0m \u001B[38;5;66;03m# this function, and just call forward.\u001B[39;00m\n\u001B[0;32m   1538\u001B[0m \u001B[38;5;28;01mif\u001B[39;00m \u001B[38;5;129;01mnot\u001B[39;00m (\u001B[38;5;28mself\u001B[39m\u001B[38;5;241m.\u001B[39m_backward_hooks \u001B[38;5;129;01mor\u001B[39;00m \u001B[38;5;28mself\u001B[39m\u001B[38;5;241m.\u001B[39m_backward_pre_hooks \u001B[38;5;129;01mor\u001B[39;00m \u001B[38;5;28mself\u001B[39m\u001B[38;5;241m.\u001B[39m_forward_hooks \u001B[38;5;129;01mor\u001B[39;00m \u001B[38;5;28mself\u001B[39m\u001B[38;5;241m.\u001B[39m_forward_pre_hooks\n\u001B[0;32m   1539\u001B[0m         \u001B[38;5;129;01mor\u001B[39;00m _global_backward_pre_hooks \u001B[38;5;129;01mor\u001B[39;00m _global_backward_hooks\n\u001B[0;32m   1540\u001B[0m         \u001B[38;5;129;01mor\u001B[39;00m _global_forward_hooks \u001B[38;5;129;01mor\u001B[39;00m _global_forward_pre_hooks):\n\u001B[1;32m-> 1541\u001B[0m     \u001B[38;5;28;01mreturn\u001B[39;00m forward_call(\u001B[38;5;241m*\u001B[39margs, \u001B[38;5;241m*\u001B[39m\u001B[38;5;241m*\u001B[39mkwargs)\n\u001B[0;32m   1543\u001B[0m \u001B[38;5;28;01mtry\u001B[39;00m:\n\u001B[0;32m   1544\u001B[0m     result \u001B[38;5;241m=\u001B[39m \u001B[38;5;28;01mNone\u001B[39;00m\n",
      "File \u001B[1;32mD:\\BlcRepo\\OtherCode\\NeuroAI\\SoftHebb\\hebblinear.py:147\u001B[0m, in \u001B[0;36mHebbHardLinear.forward\u001B[1;34m(self, x, return_x_wta)\u001B[0m\n\u001B[0;32m    144\u001B[0m \u001B[38;5;28;01mif\u001B[39;00m \u001B[38;5;28;01mFalse\u001B[39;00m:\n\u001B[0;32m    145\u001B[0m     x \u001B[38;5;241m=\u001B[39m \u001B[38;5;241m10\u001B[39m \u001B[38;5;241m*\u001B[39m nn\u001B[38;5;241m.\u001B[39mfunctional\u001B[38;5;241m.\u001B[39mnormalize(x)\n\u001B[1;32m--> 147\u001B[0m pre_x \u001B[38;5;241m=\u001B[39m \u001B[38;5;28;43mself\u001B[39;49m\u001B[38;5;241;43m.\u001B[39;49m\u001B[43mget_pre_activations\u001B[49m\u001B[43m(\u001B[49m\u001B[43mx\u001B[49m\u001B[43m)\u001B[49m\n\u001B[0;32m    149\u001B[0m \u001B[38;5;66;03m# If propagation of preAcitvations only no need to do the rest\u001B[39;00m\n\u001B[0;32m    150\u001B[0m \u001B[38;5;28;01mif\u001B[39;00m \u001B[38;5;129;01mnot\u001B[39;00m \u001B[38;5;28mself\u001B[39m\u001B[38;5;241m.\u001B[39mlearning_update \u001B[38;5;129;01mand\u001B[39;00m \u001B[38;5;129;01mnot\u001B[39;00m return_x_wta:\n",
      "File \u001B[1;32mD:\\BlcRepo\\OtherCode\\NeuroAI\\SoftHebb\\hebblinear.py:105\u001B[0m, in \u001B[0;36mHebbHardLinear.get_pre_activations\u001B[1;34m(self, x)\u001B[0m\n\u001B[0;32m     92\u001B[0m \u001B[38;5;28;01mdef\u001B[39;00m \u001B[38;5;21mget_pre_activations\u001B[39m(\u001B[38;5;28mself\u001B[39m, x: torch\u001B[38;5;241m.\u001B[39mTensor) \u001B[38;5;241m-\u001B[39m\u001B[38;5;241m>\u001B[39m torch\u001B[38;5;241m.\u001B[39mTensor:\n\u001B[0;32m     93\u001B[0m \u001B[38;5;250m    \u001B[39m\u001B[38;5;124;03m\"\"\"\u001B[39;00m\n\u001B[0;32m     94\u001B[0m \u001B[38;5;124;03m    Compute the preactivation or the current of the hebbian layer\u001B[39;00m\n\u001B[0;32m     95\u001B[0m \u001B[38;5;124;03m    ----------\u001B[39;00m\n\u001B[1;32m   (...)\u001B[0m\n\u001B[0;32m    103\u001B[0m \u001B[38;5;124;03m        Pre_activation of the hebbian layer\u001B[39;00m\n\u001B[0;32m    104\u001B[0m \u001B[38;5;124;03m    \"\"\"\u001B[39;00m\n\u001B[1;32m--> 105\u001B[0m     pre_x \u001B[38;5;241m=\u001B[39m \u001B[43mtorch\u001B[49m\u001B[38;5;241;43m.\u001B[39;49m\u001B[43mmatmul\u001B[49m\u001B[43m(\u001B[49m\u001B[43mx\u001B[49m\u001B[43m,\u001B[49m\n\u001B[0;32m    106\u001B[0m \u001B[43m                         \u001B[49m\u001B[43m(\u001B[49m\u001B[43mtorch\u001B[49m\u001B[38;5;241;43m.\u001B[39;49m\u001B[43msign\u001B[49m\u001B[43m(\u001B[49m\u001B[38;5;28;43mself\u001B[39;49m\u001B[38;5;241;43m.\u001B[39;49m\u001B[43mweight\u001B[49m\u001B[43m)\u001B[49m\u001B[43m \u001B[49m\u001B[38;5;241;43m*\u001B[39;49m\u001B[43m \u001B[49m\u001B[43mtorch\u001B[49m\u001B[38;5;241;43m.\u001B[39;49m\u001B[43mabs\u001B[49m\u001B[43m(\u001B[49m\u001B[38;5;28;43mself\u001B[39;49m\u001B[38;5;241;43m.\u001B[39;49m\u001B[43mweight\u001B[49m\u001B[43m)\u001B[49m\u001B[43m \u001B[49m\u001B[38;5;241;43m*\u001B[39;49m\u001B[38;5;241;43m*\u001B[39;49m\u001B[43m \u001B[49m\u001B[43m(\u001B[49m\u001B[38;5;28;43mself\u001B[39;49m\u001B[38;5;241;43m.\u001B[39;49m\u001B[43mlebesgue_p\u001B[49m\u001B[43m \u001B[49m\u001B[38;5;241;43m-\u001B[39;49m\u001B[43m \u001B[49m\u001B[38;5;241;43m1\u001B[39;49m\u001B[43m)\u001B[49m\u001B[43m)\u001B[49m\u001B[38;5;241;43m.\u001B[39;49m\u001B[43mt\u001B[49m\u001B[43m(\u001B[49m\u001B[43m)\u001B[49m\n\u001B[0;32m    107\u001B[0m \u001B[43m                         \u001B[49m\u001B[43m)\u001B[49m\n\u001B[0;32m    109\u001B[0m     \u001B[38;5;28;01mif\u001B[39;00m \u001B[38;5;28mself\u001B[39m\u001B[38;5;241m.\u001B[39mbias \u001B[38;5;129;01mis\u001B[39;00m \u001B[38;5;129;01mnot\u001B[39;00m \u001B[38;5;28;01mNone\u001B[39;00m:\n\u001B[0;32m    110\u001B[0m         pre_x \u001B[38;5;241m=\u001B[39m torch\u001B[38;5;241m.\u001B[39madd(pre_x, \u001B[38;5;28mself\u001B[39m\u001B[38;5;241m.\u001B[39mbias)\n",
      "\u001B[1;31mRuntimeError\u001B[0m: mat1 and mat2 shapes cannot be multiplied (1792x28 and 1x100)"
     ]
    }
   ],
   "source": [
    "log = Log(train_config)\n",
    "config = train_config['t1']\n",
    "total_epoch = 30\n",
    "\n",
    "SoftHebb_loss, SoftHebb_valloss = train_model(  total_epoch,\n",
    "                                                1,\n",
    "                                                config['lr'],\n",
    "                                                name_model,\n",
    "                                                SoftHebb_model,\n",
    "                                                device,\n",
    "                                                log.sup['t1'],\n",
    "                                                blocks=config['blocks']\n",
    "                                            )\n",
    "# Save the model\n",
    "torch.save({'state_dict': SoftHebb_model.state_dict(),\n",
    "        'config': SoftHebb_model.config}, os.path.join(\"D:\\\\BlcRepo\\OtherCode\\\\NeuroAI\\\\SoftHebb\\\\Models\", name_model, f\"{name_model}.pth\"))"
   ],
   "metadata": {
    "collapsed": false,
    "ExecuteTime": {
     "end_time": "2024-07-26T01:03:47.193120400Z",
     "start_time": "2024-07-26T01:03:45.641398400Z"
    }
   },
   "id": "7e5bad273911d643",
   "execution_count": 17
  },
  {
   "cell_type": "code",
   "outputs": [],
   "source": [
    "plotTrainValLoss(SoftHebb_loss, SoftHebb_valloss, \"2SoftMlpMNIST\", total_epoch)"
   ],
   "metadata": {
    "collapsed": false
   },
   "id": "9e70125672e0ca53",
   "execution_count": null
  },
  {
   "cell_type": "code",
   "execution_count": null,
   "id": "5654634ffb607887",
   "metadata": {
    "collapsed": false
   },
   "outputs": [],
   "source": [
    "criterion = nn.CrossEntropyLoss()\n",
    "loss_test, acc_test = evaluate_sup(SoftHebb_model, criterion, test_loader, device)\n",
    "\n",
    "print(f'Accuracy of the model on the test images: {acc_test:.2f}%')"
   ]
  },
  {
   "cell_type": "code",
   "outputs": [
    {
     "name": "stdout",
     "output_type": "stream",
     "text": [
      "block 0, size : 4 14 14\n",
      "range = 5.0\n",
      "range = 0.6185895741317419\n",
      "\n",
      " Model 2SoftHebbCnnCIFAR not found\n",
      "\n",
      "\n",
      "\n",
      " ----- Architecture Block BatchNorm2dS142(5, 5)1.0reflect, number 0 -----\n",
      "- BatchNorm2d(1, eps=1e-05, momentum=0.1, affine=False, track_running_stats=True)\n",
      "- HebbSoftConv2d(1, 4, lebesgue_p=2, pruning=0, kernel_size=(5, 5), bias=False, padding_mode=reflect, t_invert=1.0, bias=False, lr_bias=0.1, activation=exp)\n",
      "- Triangle(power=0.7)\n",
      "- AvgPool2d(kernel_size=4, stride=2, padding=1)\n",
      "\n",
      " ----- Architecture Block FlattenLinear(in_, number 1 -----\n",
      "- Flatten(start_dim=1, end_dim=-1)\n",
      "- Linear(in_features=784, out_features=10, bias=True)\n"
     ]
    }
   ],
   "source": [
    "name_model = \"2SoftHebbCnnMNIST\"\n",
    "CNN_blocks = load_presets(name_model)\n",
    "CNN_blocks = check_dimension(CNN_blocks, dataset_sup_config)\n",
    "cnn_train_config = training_config(CNN_blocks, dataset_sup_config, dataset_unsup_config, params[\"training_mode\"],\n",
    "                                   params[\"training_blocks\"])\n",
    "SoftHebb_CNN_model = load_layers(CNN_blocks, \"2SoftHebbCnnCIFAR\", False)"
   ],
   "metadata": {
    "collapsed": false,
    "ExecuteTime": {
     "end_time": "2024-07-26T01:16:20.367406900Z",
     "start_time": "2024-07-26T01:16:20.262841700Z"
    }
   },
   "id": "9f4c9fbad4bb9041",
   "execution_count": 24
  },
  {
   "cell_type": "code",
   "outputs": [
    {
     "name": "stdout",
     "output_type": "stream",
     "text": [
      "\n",
      " ********** Hybrid learning of blocks [0, 1] **********\n",
      "Epoch: [1/100]\tlr: 1.00e-03\ttime: 00:00:09\tLoss_train 0.00841\tAcc_train 85.72\t/\tLoss_test 0.00492\tAcc_test 91.54\n",
      "Epoch: [2/100]\tlr: 1.00e-03\ttime: 00:00:18\tLoss_train 0.00486\tAcc_train 91.09\t/\tLoss_test 0.00475\tAcc_test 91.41\n",
      "Epoch: [3/100]\tlr: 1.00e-03\ttime: 00:00:29\tLoss_train 0.00475\tAcc_train 91.00\t/\tLoss_test 0.00412\tAcc_test 92.51\n",
      "Epoch: [4/100]\tlr: 1.00e-03\ttime: 00:00:37\tLoss_train 0.00427\tAcc_train 91.98\t/\tLoss_test 0.00388\tAcc_test 92.24\n",
      "Epoch: [5/100]\tlr: 1.00e-03\ttime: 00:00:48\tLoss_train 0.00396\tAcc_train 92.50\t/\tLoss_test 0.00340\tAcc_test 93.82\n",
      "Epoch: [6/100]\tlr: 1.00e-03\ttime: 00:00:58\tLoss_train 0.00379\tAcc_train 92.88\t/\tLoss_test 0.00335\tAcc_test 93.89\n",
      "Epoch: [7/100]\tlr: 1.00e-03\ttime: 00:01:10\tLoss_train 0.00361\tAcc_train 93.23\t/\tLoss_test 0.00335\tAcc_test 93.84\n",
      "Epoch: [8/100]\tlr: 1.00e-03\ttime: 00:01:20\tLoss_train 0.00349\tAcc_train 93.37\t/\tLoss_test 0.00314\tAcc_test 94.14\n",
      "Epoch: [9/100]\tlr: 1.00e-03\ttime: 00:01:31\tLoss_train 0.00344\tAcc_train 93.47\t/\tLoss_test 0.00307\tAcc_test 94.28\n",
      "Epoch: [10/100]\tlr: 1.00e-03\ttime: 00:01:41\tLoss_train 0.00337\tAcc_train 93.64\t/\tLoss_test 0.00326\tAcc_test 93.52\n",
      "Epoch: [11/100]\tlr: 1.00e-03\ttime: 00:01:50\tLoss_train 0.00330\tAcc_train 93.81\t/\tLoss_test 0.00296\tAcc_test 94.25\n",
      "Epoch: [12/100]\tlr: 1.00e-03\ttime: 00:01:58\tLoss_train 0.00327\tAcc_train 93.91\t/\tLoss_test 0.00287\tAcc_test 94.58\n",
      "Epoch: [13/100]\tlr: 1.00e-03\ttime: 00:02:05\tLoss_train 0.00321\tAcc_train 93.98\t/\tLoss_test 0.00284\tAcc_test 94.83\n",
      "Epoch: [14/100]\tlr: 1.00e-03\ttime: 00:02:17\tLoss_train 0.00321\tAcc_train 93.97\t/\tLoss_test 0.00296\tAcc_test 94.31\n",
      "Epoch: [15/100]\tlr: 1.00e-03\ttime: 00:02:31\tLoss_train 0.00314\tAcc_train 94.12\t/\tLoss_test 0.00305\tAcc_test 94.25\n",
      "Epoch: [16/100]\tlr: 5.00e-04\ttime: 00:02:43\tLoss_train 0.00295\tAcc_train 94.52\t/\tLoss_test 0.00281\tAcc_test 94.82\n",
      "Epoch: [17/100]\tlr: 5.00e-04\ttime: 00:02:53\tLoss_train 0.00292\tAcc_train 94.57\t/\tLoss_test 0.00286\tAcc_test 94.51\n",
      "Epoch: [18/100]\tlr: 5.00e-04\ttime: 00:03:02\tLoss_train 0.00292\tAcc_train 94.49\t/\tLoss_test 0.00284\tAcc_test 94.62\n",
      "Epoch: [19/100]\tlr: 5.00e-04\ttime: 00:03:12\tLoss_train 0.00290\tAcc_train 94.55\t/\tLoss_test 0.00274\tAcc_test 94.88\n",
      "Epoch: [20/100]\tlr: 5.00e-04\ttime: 00:03:25\tLoss_train 0.00289\tAcc_train 94.60\t/\tLoss_test 0.00282\tAcc_test 94.64\n",
      "Epoch: [21/100]\tlr: 5.00e-04\ttime: 00:03:36\tLoss_train 0.00286\tAcc_train 94.64\t/\tLoss_test 0.00289\tAcc_test 94.23\n",
      "Epoch: [22/100]\tlr: 5.00e-04\ttime: 00:03:48\tLoss_train 0.00288\tAcc_train 94.58\t/\tLoss_test 0.00278\tAcc_test 94.72\n",
      "Epoch: [23/100]\tlr: 2.50e-04\ttime: 00:03:59\tLoss_train 0.00278\tAcc_train 94.86\t/\tLoss_test 0.00272\tAcc_test 94.84\n",
      "Epoch: [24/100]\tlr: 2.50e-04\ttime: 00:04:13\tLoss_train 0.00276\tAcc_train 94.86\t/\tLoss_test 0.00271\tAcc_test 94.93\n",
      "Epoch: [25/100]\tlr: 2.50e-04\ttime: 00:04:27\tLoss_train 0.00276\tAcc_train 94.91\t/\tLoss_test 0.00273\tAcc_test 94.83\n",
      "Epoch: [26/100]\tlr: 2.50e-04\ttime: 00:04:44\tLoss_train 0.00276\tAcc_train 94.88\t/\tLoss_test 0.00270\tAcc_test 94.80\n",
      "Epoch: [27/100]\tlr: 2.50e-04\ttime: 00:04:59\tLoss_train 0.00275\tAcc_train 94.87\t/\tLoss_test 0.00266\tAcc_test 94.97\n",
      "Epoch: [28/100]\tlr: 2.50e-04\ttime: 00:05:15\tLoss_train 0.00277\tAcc_train 94.85\t/\tLoss_test 0.00270\tAcc_test 94.93\n",
      "Epoch: [29/100]\tlr: 2.50e-04\ttime: 00:05:26\tLoss_train 0.00274\tAcc_train 94.85\t/\tLoss_test 0.00269\tAcc_test 95.01\n",
      "Epoch: [30/100]\tlr: 2.50e-04\ttime: 00:05:40\tLoss_train 0.00274\tAcc_train 94.95\t/\tLoss_test 0.00267\tAcc_test 94.96\n"
     ]
    }
   ],
   "source": [
    "log = Log(cnn_train_config)\n",
    "config = cnn_train_config['t1']\n",
    "total_epoch = 30\n",
    "\n",
    "CnnHebb_loss, CnnHebb_valloss = train_model(\n",
    "                                            total_epoch,\n",
    "                                            1,\n",
    "                                            0.001,\n",
    "                                            name_model,\n",
    "                                            SoftHebb_CNN_model,\n",
    "                                            device,\n",
    "                                            log.sup['t1'],\n",
    "                                            blocks=config['blocks']\n",
    "                                        )\n",
    "\n",
    "# Save the model\n",
    "torch.save({'state_dict': SoftHebb_CNN_model.state_dict(),\n",
    "        'config': SoftHebb_CNN_model.config}, os.path.join(\"D:\\\\BlcRepo\\OtherCode\\\\NeuroAI\\\\SoftHebb\\\\Models\", \"2SoftHebbCnnMNIST\", f\"2SoftHebbCnnMNIST.pth\"))"
   ],
   "metadata": {
    "collapsed": false,
    "ExecuteTime": {
     "end_time": "2024-07-26T01:22:01.692581100Z",
     "start_time": "2024-07-26T01:16:21.480784800Z"
    }
   },
   "id": "9eeceeed46286856",
   "execution_count": 25
  },
  {
   "cell_type": "code",
   "outputs": [
    {
     "data": {
      "text/plain": "<Figure size 640x480 with 2 Axes>",
      "image/png": "[encoded data removed]"
     },
     "metadata": {},
     "output_type": "display_data"
    }
   ],
   "source": [
    "plotTrainValLoss(CnnHebb_loss, CnnHebb_valloss, name_model, total_epoch)"
   ],
   "metadata": {
    "collapsed": false,
    "ExecuteTime": {
     "end_time": "2024-07-26T01:30:46.237279800Z",
     "start_time": "2024-07-26T01:30:45.808043700Z"
    }
   },
   "id": "8ff014f613f01240",
   "execution_count": 26
  },
  {
   "cell_type": "code",
   "outputs": [
    {
     "name": "stdout",
     "output_type": "stream",
     "text": [
      "Accuracy of the model on the test images: 95.14%\n"
     ]
    }
   ],
   "source": [
    "criterion = nn.CrossEntropyLoss()\n",
    "loss_test, acc_test = evaluate_sup(SoftHebb_CNN_model, criterion, test_loader, device)\n",
    "\n",
    "print(f'Accuracy of the model on the test images: {acc_test:.2f}%')"
   ],
   "metadata": {
    "collapsed": false,
    "ExecuteTime": {
     "end_time": "2024-07-26T01:33:35.748227300Z",
     "start_time": "2024-07-26T01:33:35.319535200Z"
    }
   },
   "id": "2e78bf8f146ca3fc",
   "execution_count": 27
  },
  {
   "cell_type": "code",
   "outputs": [],
   "source": [
    "# ## Examples of how to load pre-trained models\n",
    "# \n",
    "# # Load the model\n",
    "# from model import MultiLayer\n",
    "# \n",
    "# SoftMNIST = torch.load(\"D:\\\\BlcRepo\\OtherCode\\\\NeuroAI\\\\SoftHebb\\\\Models\\\\2SoftMlpMNIST\\\\2SoftMlpMNIST.pth\")\n",
    "# \n",
    "# SoftMNIST_Model = MultiLayer(SoftMNIST['config'])\n",
    "# SoftMNIST_Model.load_state_dict(SoftMNIST['state_dict'])\n",
    "# \n",
    "# SoftMNIST_Model.eval()"
   ],
   "metadata": {
    "collapsed": false
   },
   "id": "c27d362b82278301",
   "execution_count": null
  }
 ],
 "metadata": {
  "kernelspec": {
   "display_name": "Python 3 (ipykernel)",
   "language": "python",
   "name": "python3"
  },
  "language_info": {
   "codemirror_mode": {
    "name": "ipython",
    "version": 3
   },
   "file_extension": ".py",
   "mimetype": "text/x-python",
   "name": "python",
   "nbconvert_exporter": "python",
   "pygments_lexer": "ipython3",
   "version": "3.10.14"
  }
 },
 "nbformat": 4,
 "nbformat_minor": 5
}
