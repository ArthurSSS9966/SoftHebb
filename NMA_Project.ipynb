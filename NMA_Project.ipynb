{
 "cells": [
  {
   "cell_type": "code",
   "execution_count": 1,
   "id": "initial_id",
   "metadata": {
    "ExecuteTime": {
     "end_time": "2024-07-25T09:44:23.922934400Z",
     "start_time": "2024-07-25T09:44:16.926170700Z"
    }
   },
   "outputs": [],
   "source": [
    "#!git clone https://github.com/ArthurSSS9966/SoftHebb.git\n",
    "#%cd SoftHebb\n",
    "\n",
    "import os.path\n",
    "import matplotlib.pyplot as plt\n",
    "import numpy as np\n",
    "%load_ext autoreload\n",
    "%autoreload 2\n",
    "\n",
    "import torch\n",
    "import torch.nn as nn\n",
    "import torch.optim as optim\n",
    "\n",
    "# Test to load the SoftHebb package\n",
    "from dataset import make_data_loaders\n",
    "from model import load_layers, HebbianOptimizer, AggregateOptim\n",
    "from engine import train_sup, evaluate_sup\n",
    "from train import check_dimension, training_config\n",
    "from utils import load_presets, load_config_dataset, CustomStepLR\n",
    "from log import Log"
   ]
  },
  {
   "cell_type": "code",
   "execution_count": 2,
   "id": "5b073e7f70e70a03",
   "metadata": {
    "collapsed": false,
    "ExecuteTime": {
     "end_time": "2024-07-25T09:44:24.153145200Z",
     "start_time": "2024-07-25T09:44:23.915477100Z"
    }
   },
   "outputs": [
    {
     "name": "stdout",
     "output_type": "stream",
     "text": [
      "range = 2.165063509461097\n",
      "range = 1.7320508075688772\n"
     ]
    },
    {
     "name": "stderr",
     "output_type": "stream",
     "text": [
      "D:\\BlcRepo\\OtherCode\\NeuroAI\\SoftHebb\\dataset.py:698: UserWarning: To copy construct from a tensor, it is recommended to use sourceTensor.clone().detach() or sourceTensor.clone().detach().requires_grad_(True), rather than torch.tensor(sourceTensor).\n",
      "  self.data = torch.tensor(self.data, dtype=torch.float, device=device).div_(255).unsqueeze(1)\n",
      "D:\\BlcRepo\\OtherCode\\NeuroAI\\SoftHebb\\dataset.py:700: UserWarning: To copy construct from a tensor, it is recommended to use sourceTensor.clone().detach() or sourceTensor.clone().detach().requires_grad_(True), rather than torch.tensor(sourceTensor).\n",
      "  self.targets = torch.tensor(self.targets, device=device)\n"
     ]
    }
   ],
   "source": [
    "device = torch.device(\"cuda\" if torch.cuda.is_available() else \"cpu\")\n",
    "\n",
    "params = {\"preset\":\"2SoftMlpMNIST\", \"dataset_sup\":\"MNIST\", \"dataset_unsup\":\"MNIST\",\n",
    "          \"seed\":52,\"model-name\":\"2SoftMlpMNIST\", \"training_mode\":\"simultaneous\", \"training_blocks\":None,\n",
    "          \"resume\":False, \"save\":False}\n",
    "\n",
    "save_location = \"D:\\\\BlcRepo\\OtherCode\\\\NeuroAI\\\\SoftHebb\\\\Models\"\n",
    "\n",
    "\n",
    "dataset_sup_config = load_config_dataset(\"MNIST\", 0.8)\n",
    "dataset_unsup_config = load_config_dataset(\"MNIST\", 0.8)\n",
    "dataset_sup_config['validation'] = True\n",
    "\n",
    "blocks = load_presets(params[\"preset\"])\n",
    "blocks = check_dimension(blocks, dataset_sup_config)\n",
    "\n",
    "train_config = training_config(blocks, dataset_sup_config, dataset_unsup_config, \"simultaneous\",\n",
    "                               None)\n",
    "\n",
    "config = train_config['t1']\n",
    "train_loader, val_loader, test_loader = make_data_loaders(dataset_sup_config, config['batch_size'], device)"
   ]
  },
  {
   "cell_type": "code",
   "outputs": [],
   "source": [
    "def train_model(\n",
    "        final_epoch: int,\n",
    "        print_freq: int,\n",
    "        lr: float,\n",
    "        folder_name: str,\n",
    "        model,\n",
    "        device,\n",
    "        log,\n",
    "        blocks,\n",
    "        learning_mode: str = 'BP'\n",
    "):\n",
    "    \"\"\"\n",
    "    Hybrid training of one model, happens during simultaneous training mode\n",
    "    \"\"\"\n",
    "    print('\\n', '********** Hybrid learning of blocks %s **********' % blocks)\n",
    "    optimizer_sgd = optim.Adam(\n",
    "        model.parameters(), lr=lr)\n",
    "    criterion = nn.CrossEntropyLoss()\n",
    "    hebbian_optimizer = HebbianOptimizer(model)\n",
    "    scheduler = CustomStepLR(optimizer_sgd, final_epoch)\n",
    "    optimizer = AggregateOptim((hebbian_optimizer, optimizer_sgd))\n",
    "    log_batch = log.new_log_batch()\n",
    "    \n",
    "    train_performance = {'loss': [], 'accuracy': []}\n",
    "    val_performance = {'loss': [], 'accuracy': []}\n",
    "        \n",
    "    for epoch in range(1, final_epoch + 1):\n",
    "        measures, lr = train_sup(model, criterion, optimizer, train_loader, device, log_batch, learning_mode, blocks)\n",
    "\n",
    "        if scheduler is not None:\n",
    "            scheduler.step()\n",
    "\n",
    "        if epoch % print_freq == 0 or epoch == final_epoch or epoch == 1:\n",
    "            \n",
    "            loss_test, acc_test = evaluate_sup(model, criterion, val_loader, device)\n",
    "            \n",
    "            log_batch = log.step(epoch, log_batch, loss_test, acc_test, lr, save=True)\n",
    "            log.verbose()\n",
    "            \n",
    "            _, train_loss, train_acc, _, _ = log.data[-1]\n",
    "            \n",
    "            train_performance['loss'].append(train_loss)\n",
    "            train_performance['accuracy'].append(train_acc)\n",
    "            val_performance['loss'].append(loss_test)\n",
    "            val_performance['accuracy'].append(acc_test)\n",
    "        \n",
    "    return train_performance, val_performance"
   ],
   "metadata": {
    "collapsed": false,
    "ExecuteTime": {
     "end_time": "2024-07-25T09:44:24.276619600Z",
     "start_time": "2024-07-25T09:44:24.163701100Z"
    }
   },
   "id": "b5446d49e83eca6a",
   "execution_count": 3
  },
  {
   "cell_type": "code",
   "outputs": [],
   "source": [
    "def plotTrainValLoss(train_performance, val_performance, name_model):\n",
    "    epochs = np.arange(1, 16, 15/len(train_performance['loss']))\n",
    "    \n",
    "    trainloss = train_performance['loss']\n",
    "    valloss = val_performance['loss']\n",
    "    train_accu = train_performance['accuracy']\n",
    "    val_accu = val_performance['accuracy']\n",
    "    \n",
    "    # Plot the loss and accuracy on the same plot with twin y axis\n",
    "    fig, ax1 = plt.subplots()\n",
    "    ax1.set_xlabel('Epochs')\n",
    "    ax1.set_ylabel('Loss', color='tab:red')\n",
    "    ax1.plot(epochs, trainloss, color='tab:red', label='Train Loss')\n",
    "    ax1.plot(epochs, valloss, color='tab:blue', label='Val Loss')\n",
    "    ax1.tick_params(axis='y', labelcolor='tab:red')\n",
    "    ax1.legend(loc='upper left')\n",
    "    \n",
    "    ax2 = ax1.twinx()\n",
    "    ax2.set_ylabel('Accuracy', color='tab:green')\n",
    "    ax2.plot(epochs, train_accu, color='tab:green', label='Train Accuracy')\n",
    "    ax2.plot(epochs, val_accu, color='tab:orange', label='Val Accuracy')\n",
    "    ax2.tick_params(axis='y', labelcolor='tab:green')\n",
    "    ax2.legend(loc='upper right')\n",
    "    \n",
    "    fig.tight_layout()\n",
    "    plt.savefig(os.path.join(save_location, name_model, f\"{name_model}_training_plot.png\"))\n",
    "    plt.show()\n"
   ],
   "metadata": {
    "collapsed": false,
    "ExecuteTime": {
     "end_time": "2024-07-25T09:44:24.391011200Z",
     "start_time": "2024-07-25T09:44:24.277669500Z"
    }
   },
   "id": "c021d2776322ca62",
   "execution_count": 4
  },
  {
   "cell_type": "code",
   "execution_count": 5,
   "id": "e22696a77c4bbfa5",
   "metadata": {
    "collapsed": false,
    "ExecuteTime": {
     "end_time": "2024-07-25T09:44:24.536721Z",
     "start_time": "2024-07-25T09:44:24.395176800Z"
    }
   },
   "outputs": [
    {
     "name": "stdout",
     "output_type": "stream",
     "text": [
      "\n",
      " Model 2SoftMlpMNIST not found\n",
      "\n",
      "\n",
      "\n",
      " ----- Architecture Block FlattenH7841002, number 0 -----\n",
      "- Flatten(start_dim=1, end_dim=-1)\n",
      "- HebbSoftLinear(in_features=784, out_features=100, lebesgue_p=2,  bias=False, t_invert=12.0, bias=False, lr_bias=0.0833)\n",
      "- SoftMax(t_invert=5.0, dim=1)\n",
      "\n",
      " ----- Architecture Block Linear(in_, number 1 -----\n",
      "- Linear(in_features=100, out_features=10, bias=True)\n"
     ]
    }
   ],
   "source": [
    "name_model = \"2SoftMlpMNIST\"\n",
    "SoftHebb_model = load_layers(blocks, name_model, False)"
   ]
  },
  {
   "cell_type": "code",
   "outputs": [
    {
     "name": "stdout",
     "output_type": "stream",
     "text": [
      "\n",
      " ********** Hybrid learning of blocks [0, 1] **********\n",
      "Epoch: [1/100]\tlr: 1.00e-03\ttime: 00:00:05\tLoss_train 0.03194\tAcc_train 65.14\t/\tLoss_test 0.02694\tAcc_test 88.12\n",
      "Epoch: [3/100]\tlr: 1.00e-03\ttime: 00:00:15\tLoss_train 0.01942\tAcc_train 88.27\t/\tLoss_test 0.01358\tAcc_test 88.84\n",
      "Epoch: [6/100]\tlr: 1.00e-03\ttime: 00:00:33\tLoss_train 0.00979\tAcc_train 88.54\t/\tLoss_test 0.00728\tAcc_test 89.59\n",
      "Epoch: [9/100]\tlr: 1.00e-03\ttime: 00:00:59\tLoss_train 0.00651\tAcc_train 88.87\t/\tLoss_test 0.00578\tAcc_test 89.13\n",
      "Epoch: [12/100]\tlr: 1.00e-03\ttime: 00:01:17\tLoss_train 0.00548\tAcc_train 89.73\t/\tLoss_test 0.00536\tAcc_test 89.53\n",
      "Epoch: [15/100]\tlr: 1.00e-03\ttime: 00:01:36\tLoss_train 0.00550\tAcc_train 88.90\t/\tLoss_test 0.00544\tAcc_test 88.43\n"
     ]
    }
   ],
   "source": [
    "log = Log(train_config)\n",
    "config = train_config['t1']\n",
    "\n",
    "SoftHebb_loss, SoftHebb_valloss = train_model(  15,\n",
    "                                                3,\n",
    "                                                config['lr'],\n",
    "                                                name_model,\n",
    "                                                SoftHebb_model,\n",
    "                                                device,\n",
    "                                                log.sup['t1'],\n",
    "                                                blocks=config['blocks']\n",
    "                                            )\n",
    "# Save the model\n",
    "torch.save({'state_dict': SoftHebb_model.state_dict(),\n",
    "        'config': SoftHebb_model.config}, os.path.join(\"D:\\\\BlcRepo\\OtherCode\\\\NeuroAI\\\\SoftHebb\\\\Models\", name_model, f\"{name_model}.pth\"))"
   ],
   "metadata": {
    "collapsed": false,
    "ExecuteTime": {
     "end_time": "2024-07-25T09:46:01.084482900Z",
     "start_time": "2024-07-25T09:44:24.531708800Z"
    }
   },
   "id": "7e5bad273911d643",
   "execution_count": 6
  },
  {
   "cell_type": "code",
   "outputs": [
    {
     "data": {
      "text/plain": "<Figure size 640x480 with 2 Axes>",
      "image/png": "[encoded data removed]"
     },
     "metadata": {},
     "output_type": "display_data"
    }
   ],
   "source": [
    "plotTrainValLoss(SoftHebb_loss, SoftHebb_valloss, name_model)"
   ],
   "metadata": {
    "collapsed": false,
    "ExecuteTime": {
     "end_time": "2024-07-25T09:46:01.576250Z",
     "start_time": "2024-07-25T09:46:01.084482900Z"
    }
   },
   "id": "9e70125672e0ca53",
   "execution_count": 7
  },
  {
   "cell_type": "code",
   "execution_count": 8,
   "id": "5654634ffb607887",
   "metadata": {
    "collapsed": false,
    "ExecuteTime": {
     "end_time": "2024-07-25T09:46:01.905588500Z",
     "start_time": "2024-07-25T09:46:01.577853800Z"
    }
   },
   "outputs": [
    {
     "name": "stdout",
     "output_type": "stream",
     "text": [
      "Accuracy of the model on the test images: 88.63%\n"
     ]
    }
   ],
   "source": [
    "criterion = nn.CrossEntropyLoss()\n",
    "loss_test, acc_test = evaluate_sup(SoftHebb_model, criterion, test_loader, device)\n",
    "\n",
    "print(f'Accuracy of the model on the test images: {acc_test:.2f}%')"
   ]
  },
  {
   "cell_type": "code",
   "outputs": [
    {
     "name": "stdout",
     "output_type": "stream",
     "text": [
      "block 0, size : 100 14 14\n",
      "range = 5.0\n",
      "range = 0.12371791482634838\n",
      "\n",
      " Model 2SoftHebbCnnCIFAR not found\n",
      "\n",
      "\n",
      "\n",
      " ----- Architecture Block BatchNorm2dS11002(5, 5)1.0reflect, number 0 -----\n",
      "- BatchNorm2d(1, eps=1e-05, momentum=0.1, affine=False, track_running_stats=True)\n",
      "- HebbSoftConv2d(1, 100, lebesgue_p=2, pruning=0, kernel_size=(5, 5), bias=False, padding_mode=reflect, t_invert=1.0, bias=False, lr_bias=0.1, activation=exp)\n",
      "- Triangle(power=0.7)\n",
      "- AvgPool2d(kernel_size=4, stride=2, padding=1)\n",
      "\n",
      " ----- Architecture Block FlattenDropout(p=0.5, inplace=False)Linear(in_, number 1 -----\n",
      "- Flatten(start_dim=1, end_dim=-1)\n",
      "- Dropout(p=0.5, inplace=False)\n",
      "- Linear(in_features=19600, out_features=10, bias=True)\n"
     ]
    }
   ],
   "source": [
    "name_model = \"2SoftHebbCnnMNIST\"\n",
    "CNN_blocks = load_presets(name_model)\n",
    "CNN_blocks = check_dimension(CNN_blocks, dataset_sup_config)\n",
    "cnn_train_config = training_config(CNN_blocks, dataset_sup_config, dataset_unsup_config, params[\"training_mode\"],\n",
    "                                   params[\"training_blocks\"])\n",
    "SoftHebb_CNN_model = load_layers(CNN_blocks, \"2SoftHebbCnnCIFAR\", False)"
   ],
   "metadata": {
    "collapsed": false,
    "ExecuteTime": {
     "end_time": "2024-07-25T09:46:02.074756300Z",
     "start_time": "2024-07-25T09:46:01.890033Z"
    }
   },
   "id": "9f4c9fbad4bb9041",
   "execution_count": 9
  },
  {
   "cell_type": "code",
   "outputs": [
    {
     "name": "stdout",
     "output_type": "stream",
     "text": [
      "\n",
      " ********** Hybrid learning of blocks [0, 1] **********\n",
      "Epoch: [1/100]\tlr: 1.00e-03\ttime: 00:00:55\tLoss_train 0.02030\tAcc_train 84.24\t/\tLoss_test 0.00667\tAcc_test 89.69\n",
      "Epoch: [3/100]\tlr: 1.00e-03\ttime: 00:02:39\tLoss_train 0.01137\tAcc_train 87.45\t/\tLoss_test 0.00795\tAcc_test 91.85\n"
     ]
    }
   ],
   "source": [
    "log = Log(cnn_train_config)\n",
    "config = cnn_train_config['t1']\n",
    "\n",
    "CnnHebb_loss, CnnHebb_valloss = train_model(\n",
    "                                            15,\n",
    "                                            3,\n",
    "                                            0.001,\n",
    "                                            name_model,\n",
    "                                            SoftHebb_CNN_model,\n",
    "                                            device,\n",
    "                                            log.sup['t1'],\n",
    "                                            blocks=config['blocks']\n",
    "                                        )\n",
    "\n",
    "# Save the model\n",
    "torch.save({'state_dict': SoftHebb_CNN_model.state_dict(),\n",
    "        'config': SoftHebb_CNN_model.config}, os.path.join(\"D:\\\\BlcRepo\\OtherCode\\\\NeuroAI\\\\SoftHebb\\\\Models\", \"2SoftHebbCnnMNIST\", f\"2SoftHebbCnnMNIST.pth\"))"
   ],
   "metadata": {
    "collapsed": false,
    "is_executing": true,
    "ExecuteTime": {
     "start_time": "2024-07-25T09:46:02.076750400Z"
    }
   },
   "id": "9eeceeed46286856",
   "execution_count": null
  },
  {
   "cell_type": "code",
   "outputs": [],
   "source": [
    "plotTrainValLoss(CnnHebb_loss, CnnHebb_valloss, name_model)"
   ],
   "metadata": {
    "collapsed": false,
    "is_executing": true
   },
   "id": "8ff014f613f01240"
  },
  {
   "cell_type": "code",
   "outputs": [],
   "source": [
    "criterion = nn.CrossEntropyLoss()\n",
    "loss_test, acc_test = evaluate_sup(SoftHebb_CNN_model, criterion, test_loader, device)\n",
    "\n",
    "print(f'Accuracy of the model on the test images: {acc_test:.2f}%')"
   ],
   "metadata": {
    "collapsed": false,
    "is_executing": true
   },
   "id": "2e78bf8f146ca3fc",
   "execution_count": null
  },
  {
   "cell_type": "code",
   "outputs": [],
   "source": [
    "## Examples of how to load pre-trained models\n",
    "\n",
    "# Load the model\n",
    "from model import MultiLayer\n",
    "\n",
    "SoftMNIST = torch.load(\"D:\\\\BlcRepo\\OtherCode\\\\NeuroAI\\\\SoftHebb\\\\Models\\\\2SoftMlpMNIST\\\\2SoftMlpMNIST.pth\")\n",
    "\n",
    "SoftMNIST_Model = MultiLayer(SoftMNIST['config'])\n",
    "SoftMNIST_Model.load_state_dict(SoftMNIST['state_dict'])\n",
    "\n",
    "SoftMNIST_Model.eval()"
   ],
   "metadata": {
    "collapsed": false,
    "is_executing": true
   },
   "id": "c27d362b82278301",
   "execution_count": null
  },
  {
   "cell_type": "code",
   "outputs": [],
   "source": [],
   "metadata": {
    "collapsed": false,
    "is_executing": true
   },
   "id": "d9af846060d10190",
   "execution_count": null
  }
 ],
 "metadata": {
  "kernelspec": {
   "display_name": "Python 3 (ipykernel)",
   "language": "python",
   "name": "python3"
  },
  "language_info": {
   "codemirror_mode": {
    "name": "ipython",
    "version": 3
   },
   "file_extension": ".py",
   "mimetype": "text/x-python",
   "name": "python",
   "nbconvert_exporter": "python",
   "pygments_lexer": "ipython3",
   "version": "3.10.14"
  }
 },
 "nbformat": 4,
 "nbformat_minor": 5
}
